{
 "cells": [
  {
   "cell_type": "code",
   "execution_count": 1,
   "id": "pressing-astronomy",
   "metadata": {},
   "outputs": [],
   "source": [
    "import pyrosetta\n",
    "from pyrosetta.rosetta.protocols.carbohydrates import SimpleGlycosylateMover\n",
    "from pyrosetta.rosetta.core.pose.carbohydrates import glycosylate_pose\n",
    "from pyrosetta.rosetta.core.pack.task.operation import (\n",
    "    InitializeFromCommandline,\n",
    "    RestrictToRepacking,\n",
    ")\n",
    "from pyrosetta.rosetta.core.select.residue_selector import (\n",
    "    ResidueIndexSelector,\n",
    "    NeighborhoodResidueSelector,\n",
    ")\n",
    "from pyrosetta.rosetta.core.simple_metrics.metrics import RMSDMetric\n",
    "from pyrosetta.rosetta.core.pack.task.operation import (\n",
    "    OperateOnResidueSubset,\n",
    "    PreventRepackingRLT,\n",
    ")\n",
    "from pyrosetta.rosetta.protocols.rigid import (\n",
    "    RigidBodyPerturbNoCenterMover as RBPNCMover,\n",
    ")\n",
    "from pyrosetta.rosetta.protocols.relax import FastRelax\n",
    "from pyrosetta.rosetta.core.select.movemap import MoveMapFactory\n",
    "\n",
    "## Full imports of libraries \n",
    "from pyrosetta.rosetta.core.scoring.constraints import *\n",
    "from pyrosetta.rosetta.protocols.carbohydrates import *\n",
    "from pyrosetta.rosetta.core.scoring import *\n",
    "\n",
    "## ***************************************************************\n",
    "from pyrosetta.rosetta.core.select.residue_selector import (\n",
    "    AndResidueSelector, \n",
    "    NeighborhoodResidueSelector, \n",
    "    NotResidueSelector,\n",
    "    ChainSelector\n",
    ")\n",
    "\n",
    "from pyrosetta.rosetta.core.pack.task import TaskFactory\n",
    "\n",
    "from pyrosetta.rosetta.protocols.denovo_design.movers import FastDesign\n",
    "\n",
    "from pyrosetta.rosetta.core.pack.task.operation import (\n",
    "    PreventRepackingRLT, \n",
    "    OperateOnResidueSubset, \n",
    "    RestrictToRepackingRLT,\n",
    "    IncludeCurrent\n",
    ")"
   ]
  },
  {
   "cell_type": "code",
   "execution_count": 2,
   "id": "abroad-writing",
   "metadata": {},
   "outputs": [],
   "source": [
    "#from pyrosetta.rosetta.core.pack.task."
   ]
  },
  {
   "cell_type": "code",
   "execution_count": 3,
   "id": "dietary-barrel",
   "metadata": {},
   "outputs": [
    {
     "name": "stdout",
     "output_type": "stream",
     "text": [
      "PyRosetta-4 2020 [Rosetta PyRosetta4.conda.linux.cxx11thread.serialization.CentOS.python37.Release 2020.40+release.f01fa77e7385c2c0bdac6e346b24a6d8d900e7c7 2020-10-02T11:47:11] retrieved from: http://www.pyrosetta.org\n",
      "(C) Copyright Rosetta Commons Member Institutions. Created in JHU by Sergey Lyskov and PyRosetta Team.\n",
      "\u001b[0mcore.init: {0} \u001b[0mChecking for fconfig files in pwd and ./rosetta/flags\n",
      "\u001b[0mcore.init: {0} \u001b[0mRosetta version: PyRosetta4.conda.linux.cxx11thread.serialization.CentOS.python37.Release r267 2020.40+release.f01fa77 f01fa77e7385c2c0bdac6e346b24a6d8d900e7c7 http://www.pyrosetta.org 2020-10-02T11:47:11\n",
      "\u001b[0mcore.init: {0} \u001b[0mcommand: PyRosetta -include_sugars -lock_rings -maintain_links -auto_detect_glycan_connections -alternate_3_letter_codes pdb_sugar -auto_setup_metals -constraints:cst_fa_file starting_structure/6N1B_catalytic_and_specific.cst -database /home/souvadra/anaconda3/envs/pyrosetta_env/lib/python3.7/site-packages/pyrosetta/database\n",
      "\u001b[0mbasic.random.init_random_generator: {0} \u001b[0m'RNG device' seed mode, using '/dev/urandom', seed=1253914695 seed_offset=0 real_seed=1253914695 thread_index=0\n",
      "\u001b[0mbasic.random.init_random_generator: {0} \u001b[0mRandomGenerator:init: Normal mode, seed=1253914695 RG_type=mt19937\n"
     ]
    }
   ],
   "source": [
    "pyrosetta.init(\"-include_sugars -lock_rings -maintain_links -auto_detect_glycan_connections -alternate_3_letter_codes pdb_sugar -auto_setup_metals -constraints:cst_fa_file starting_structure/6N1B_catalytic_and_specific.cst\")"
   ]
  },
  {
   "cell_type": "code",
   "execution_count": 4,
   "id": "attached-detective",
   "metadata": {},
   "outputs": [
    {
     "name": "stdout",
     "output_type": "stream",
     "text": [
      "6N1B-A_antigen.pdb  6N1B_catalytic_and_specific.cst\r\n"
     ]
    }
   ],
   "source": [
    "!ls starting_structure/"
   ]
  },
  {
   "cell_type": "code",
   "execution_count": 5,
   "id": "utility-mobile",
   "metadata": {},
   "outputs": [
    {
     "name": "stdout",
     "output_type": "stream",
     "text": [
      "\u001b[0mcore.chemical.GlobalResidueTypeSet: {0} \u001b[0mFinished initializing fa_standard residue type set.  Created 1641 residue types\n",
      "\u001b[0mcore.chemical.GlobalResidueTypeSet: {0} \u001b[0mTotal time to initialize 1.32539 seconds.\n",
      "\u001b[0mcore.import_pose.import_pose: {0} \u001b[0mFile 'starting_structure/6N1B-A_antigen.pdb' automatically determined to be of type PDB\n",
      "\u001b[0mcore.io.util: {0} \u001b[0mAutomatic glycan connection is activated.\n",
      "\u001b[0mcore.io.util: {0} \u001b[0mStart reordering residues.\n",
      "\u001b[0mcore.io.util: {0} \u001b[0mCorrected glycan residue order (internal numbering): [390, 391, 392]\n",
      "\u001b[0mcore.io.util: {0} \u001b[0m\n",
      "\u001b[0mcore.io.pose_from_sfr.PoseFromSFRBuilder: {0} \u001b[0mSetting chain termination for 391\n",
      "\u001b[0mcore.io.pose_from_sfr.PoseFromSFRBuilder: {0} \u001b[0mCA 386 was added by a jump, with base residue 94\n",
      "\u001b[0mcore.io.pose_from_sfr.PoseFromSFRBuilder: {0} \u001b[0mCA 387 was added by a jump, with base residue 96\n",
      "\u001b[0mcore.io.pose_from_sfr.PoseFromSFRBuilder: {0} \u001b[0mCA 388 was added by a jump, with base residue 230\n",
      "\u001b[0mcore.io.pose_from_sfr.PoseFromSFRBuilder: {0} \u001b[0mCA 389 was added by a jump, with base residue 234\n",
      "\u001b[0mcore.io.pose_from_sfr.PoseFromSFRBuilder: {0} \u001b[0m\u001b[1m[ WARNING ]\u001b[0m Gal390 has an unfavorable ring conformation; the coordinates for this input structure may have been poorly assigned.\n",
      "\u001b[0mcore.io.pose_from_sfr.PoseFromSFRBuilder: {0} \u001b[0m\u001b[1m[ WARNING ]\u001b[0m Fuc391 has an unfavorable ring conformation; the coordinates for this input structure may have been poorly assigned.\n",
      "\u001b[0mcore.chemical.AtomICoor: {0} \u001b[0m\u001b[1m[ WARNING ]\u001b[0m IcoorAtomID::atom_id(): Cannot get atom_id for POLYMER_LOWER of residue ->3)-alpha-D-Galp:non-reducing_end:2-AcNH 392.  Returning BOGUS ID instead.\n",
      "\u001b[0mcore.conformation.carbohydrates.GlycanTreeSet: {0} \u001b[0mSetting up Glycan Trees\n",
      "\u001b[0mcore.conformation.carbohydrates.GlycanTreeSet: {0} \u001b[0mFound 1 glycan trees.\n",
      "\u001b[0mcore.util.metalloproteins_util: {0} \u001b[0mAutomatically setting covalent bonds between metal ions and metal-binding residues.\n",
      "\u001b[0mcore.util.metalloproteins_util: {0} \u001b[0mAdding covalent linkage between residue 94's  OD1 atom and residue 386's CA   atom.\n",
      "\u001b[0mcore.util.metalloproteins_util: {0} \u001b[0mAdding covalent linkage between residue 246's  NE2 atom and residue 386's CA   atom.\n",
      "\u001b[0mcore.util.metalloproteins_util: {0} \u001b[0mAdding covalent linkage between residue 30's  OD1 atom and residue 387's CA   atom.\n",
      "\u001b[0mcore.util.metalloproteins_util: {0} \u001b[0mAdding covalent linkage between residue 30's  OD2 atom and residue 387's CA   atom.\n",
      "\u001b[0mcore.conformation.Residue: {0} \u001b[0m\u001b[1m[ WARNING ]\u001b[0m Residue connection id changed when creating a new residue at seqpos 30\n",
      "\u001b[0mcore.conformation.Residue: {0} \u001b[0m\u001b[1m[ WARNING ]\u001b[0m ResConnID info stored on the connected residue (residue 387) is now out of date!\n",
      "\u001b[0mcore.conformation.Residue: {0} \u001b[0m\u001b[1m[ WARNING ]\u001b[0m Connection atom name (in src):  OD1\n",
      "\u001b[0mcore.util.metalloproteins_util: {0} \u001b[0mAdding covalent linkage between residue 96's  OD1 atom and residue 387's CA   atom.\n",
      "\u001b[0mcore.util.metalloproteins_util: {0} \u001b[0mAdding covalent linkage between residue 248's  OD1 atom and residue 387's CA   atom.\n",
      "\u001b[0mcore.util.metalloproteins_util: {0} \u001b[0mAutomatically setting up constraints between metal ions and metal-binding residues.\n"
     ]
    }
   ],
   "source": [
    "pose = pyrosetta.pose_from_pdb(\"starting_structure/6N1B-A_antigen.pdb\")"
   ]
  },
  {
   "cell_type": "code",
   "execution_count": null,
   "id": "conservative-horizontal",
   "metadata": {},
   "outputs": [],
   "source": [
    "sfxn = pyrosetta.create_score_function(\"ref2015_cart.wts\")\n",
    "inital_energy = sfxn(pose)\n",
    "\n",
    "sfxn.set_weight(atom_pair_constraint, 1.0)\n",
    "add_fa_constraints_from_cmdline(pose, sfxn)"
   ]
  },
  {
   "cell_type": "code",
   "execution_count": null,
   "id": "dressed-month",
   "metadata": {},
   "outputs": [],
   "source": [
    "sfxn.show(pose)"
   ]
  },
  {
   "cell_type": "code",
   "execution_count": null,
   "id": "ethical-broad",
   "metadata": {},
   "outputs": [],
   "source": [
    "print(pose.sequence())\n",
    "print(\"Length of the protein+sugar is:\", len(pose.sequence()))"
   ]
  },
  {
   "cell_type": "code",
   "execution_count": null,
   "id": "religious-press",
   "metadata": {},
   "outputs": [],
   "source": [
    "aa_res = ChainSelector(\"A\")\n",
    "sugar_res = NotResidueSelector(ChainSelector(\"A\"))"
   ]
  },
  {
   "cell_type": "code",
   "execution_count": null,
   "id": "norwegian-arabic",
   "metadata": {},
   "outputs": [],
   "source": [
    "nbr_selector = NeighborhoodResidueSelector(sugar_res, 8, True)\n",
    "\n",
    "not_to_design = AndResidueSelector(sugar_res, nbr_selector)\n",
    "only_to_design = NotResidueSelector(not_to_design)"
   ]
  },
  {
   "cell_type": "code",
   "execution_count": null,
   "id": "lightweight-study",
   "metadata": {},
   "outputs": [],
   "source": [
    "disable_packing = PreventRepackingRLT()\n",
    "repack_only = RestrictToRepackingRLT()"
   ]
  },
  {
   "cell_type": "code",
   "execution_count": null,
   "id": "knowing-clerk",
   "metadata": {},
   "outputs": [],
   "source": [
    "repack_nbr = OperateOnResidueSubset(\n",
    "    repack_only, nbr_selector, flip_subset=False\n",
    ")\n",
    "nopack_sugar = OperateOnResidueSubset(\n",
    "    disable_packing, sugar_res, flip_subset=False\n",
    ")"
   ]
  },
  {
   "cell_type": "code",
   "execution_count": null,
   "id": "homeless-telling",
   "metadata": {},
   "outputs": [],
   "source": [
    "tf = TaskFactory()\n",
    "tf.push_back(InitializeFromCommandline())\n",
    "tf.push_back(IncludeCurrent())\n",
    "tf.push_back(repack_nbr)\n",
    "tf.push_back(nopack_sugar)\n",
    "\n",
    "packer_task = tf.create_task_and_apply_taskoperations(pose)\n",
    "# View the PackerTask\n",
    "print(packer_task)"
   ]
  },
  {
   "cell_type": "code",
   "execution_count": null,
   "id": "chinese-filing",
   "metadata": {},
   "outputs": [],
   "source": []
  },
  {
   "cell_type": "code",
   "execution_count": null,
   "id": "appreciated-clinic",
   "metadata": {},
   "outputs": [],
   "source": [
    "mmf = MoveMapFactory()\n",
    "mmf.all_bb(True)\n",
    "mmf.all_chi(True)\n",
    "mmf.add_bb_action(\n",
    "    pyrosetta.rosetta.core.select.movemap.move_map_action.mm_disable,\n",
    "    only_to_design\n",
    ")\n",
    "mm = mmf.create_movemap_from_pose(pose)"
   ]
  },
  {
   "cell_type": "code",
   "execution_count": null,
   "id": "phantom-charger",
   "metadata": {},
   "outputs": [],
   "source": [
    "print(mm)"
   ]
  },
  {
   "cell_type": "code",
   "execution_count": null,
   "id": "south-slave",
   "metadata": {},
   "outputs": [],
   "source": [
    "fd = FastDesign()\n",
    "fd.set_scorefxn(sfxn)\n",
    "fd.cartesian(True)\n",
    "fd.set_task_factory(tf)\n",
    "fd.set_movemap_factory(mmf)\n",
    "fd.minimize_bond_angles(True)\n",
    "fd.minimize_bond_lengths(True)\n",
    "fd.min_type(\"lbfgs_armijo_nonmonotone\")\n",
    "fd.max_iter(1)"
   ]
  },
  {
   "cell_type": "code",
   "execution_count": null,
   "id": "leading-blond",
   "metadata": {},
   "outputs": [],
   "source": [
    "fd.apply(pose)"
   ]
  },
  {
   "cell_type": "code",
   "execution_count": null,
   "id": "ambient-stuart",
   "metadata": {},
   "outputs": [],
   "source": []
  }
 ],
 "metadata": {
  "kernelspec": {
   "display_name": "Python 3",
   "language": "python",
   "name": "python3"
  },
  "language_info": {
   "codemirror_mode": {
    "name": "ipython",
    "version": 3
   },
   "file_extension": ".py",
   "mimetype": "text/x-python",
   "name": "python",
   "nbconvert_exporter": "python",
   "pygments_lexer": "ipython3",
   "version": "3.7.7"
  }
 },
 "nbformat": 4,
 "nbformat_minor": 5
}
